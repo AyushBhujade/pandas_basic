{
 "cells": [
  {
   "cell_type": "markdown",
   "id": "f6b30656-2c8c-4311-8a19-7b0c0d0b7294",
   "metadata": {},
   "source": [
    "quation 1:\n"
   ]
  },
  {
   "cell_type": "code",
   "execution_count": 1,
   "id": "986f8e54-6d44-4bfe-b6a0-462570372b81",
   "metadata": {},
   "outputs": [],
   "source": [
    "import pandas as pd"
   ]
  },
  {
   "cell_type": "code",
   "execution_count": 9,
   "id": "a7a39a90-7f61-41ee-b209-d4deee4ebd33",
   "metadata": {},
   "outputs": [
    {
     "name": "stdout",
     "output_type": "stream",
     "text": [
      "0     4.8\n",
      "1    15.0\n",
      "2    16.0\n",
      "3    23.0\n",
      "4    42.0\n",
      "dtype: float64\n"
     ]
    }
   ],
   "source": [
    "data=[4.8,15,16,23,42]\n",
    "series=pd.Series(se)\n",
    "print(series)"
   ]
  },
  {
   "cell_type": "markdown",
   "id": "ccdc6aa3-5894-4c65-b7fc-5a2f10af5837",
   "metadata": {},
   "source": [
    "quation 2:"
   ]
  },
  {
   "cell_type": "code",
   "execution_count": 10,
   "id": "58b1195c-a8c8-4f54-95c5-62ee54cc9362",
   "metadata": {},
   "outputs": [
    {
     "name": "stdout",
     "output_type": "stream",
     "text": [
      "0     1\n",
      "1     2\n",
      "2     3\n",
      "3     4\n",
      "4     5\n",
      "5     6\n",
      "6     7\n",
      "7     8\n",
      "8     9\n",
      "9    10\n",
      "dtype: int64\n"
     ]
    }
   ],
   "source": [
    "l=[1,2,3,4,5,6,7,8,9,10]\n",
    "se1=pd.Series(l)\n",
    "print(se1)"
   ]
  },
  {
   "cell_type": "markdown",
   "id": "8687f480-7da6-44f0-a045-43d83f027fe8",
   "metadata": {},
   "source": [
    "quation 3:"
   ]
  },
  {
   "cell_type": "code",
   "execution_count": 11,
   "id": "d63c8876-b378-4139-b798-5052b0157c88",
   "metadata": {},
   "outputs": [
    {
     "name": "stdout",
     "output_type": "stream",
     "text": [
      "     name  age  gender\n",
      "0   alice   25  female\n",
      "1     bob   30    male\n",
      "2  claire   27  female\n"
     ]
    }
   ],
   "source": [
    "data1={\n",
    "    \"name\":[\"alice\",\"bob\",\"claire\"],\n",
    "    \"age\":[25,30,27],\n",
    "    \"gender\":[\"female\",\"male\",\"female\"]\n",
    "}\n",
    "df=pd.DataFrame(data1)\n",
    "print(df)"
   ]
  },
  {
   "cell_type": "markdown",
   "id": "a6077d9d-2de7-4b8e-a14b-74b9cd345175",
   "metadata": {},
   "source": [
    "quation 4:"
   ]
  },
  {
   "cell_type": "markdown",
   "id": "4841d4c8-db3e-4cae-b409-08deb463059e",
   "metadata": {},
   "source": [
    "in panadas dataframe is a two dimensional ,size mutable,heterogeneous tabular data structure .it is essentially\n",
    " a table of data with rows and column where each column conatin different data types on other side series is a\n",
    " one dimensional labeled array capable of holding data of any type."
   ]
  },
  {
   "cell_type": "code",
   "execution_count": 14,
   "id": "d5896787-96b6-4ce6-a37d-3e452c4de641",
   "metadata": {},
   "outputs": [
    {
     "name": "stdout",
     "output_type": "stream",
     "text": [
      "0     1\n",
      "1     2\n",
      "2     3\n",
      "3     4\n",
      "4     7\n",
      "5    56\n",
      "dtype: int64\n",
      "      name  age        city\n",
      "0  avinash   26        neri\n",
      "1    ayush   18       umred\n",
      "2   aditya   19  bhadrawati\n"
     ]
    }
   ],
   "source": [
    "# Creating a series\n",
    "data2=[1,2,3,4,7,56]\n",
    "se2=pd.Series(data2)\n",
    "print(se2)\n",
    "#Creating a dataframe\n",
    "data3={\"name\":[\"avinash\",\"ayush\",\"aditya\"],\"age\":[26,18,19],\"city\":[\"neri\",\"umred\",\"bhadrawati\"]}\n",
    "df1=pd.DataFrame(data3)\n",
    "print(df1)\n"
   ]
  },
  {
   "cell_type": "markdown",
   "id": "6e15280d-adaf-4808-971c-b5acc1c7240a",
   "metadata": {},
   "source": [
    "quation 5:\n"
   ]
  },
  {
   "cell_type": "markdown",
   "id": "122c778a-b471-4a39-954b-09792a2bdadb",
   "metadata": {},
   "source": [
    "selection and filtering:\n",
    "     df[columns]:select specific column from dataaframe\n",
    "     df.loc[] and df.iloc: select rows column by labels or integer location\n",
    "     \n",
    "     "
   ]
  },
  {
   "cell_type": "markdown",
   "id": "df7198e7-c5a3-4656-a2fb-43600b8988a6",
   "metadata": {},
   "source": [
    "quation 6:\n",
    "series : You can modify the elements of a Series after it has been created. For example, you can change the values of specific elements by assigning new values to them.\n",
    "\n",
    "DataFrame: DataFrames are also mutable. You can add or remove columns, change values, and perform various operations to modify the structure and content of a DataFrame.\n",
    "\n",
    "Panel: The Panel data structure was deprecated in Pandas and removed in version 0.25.0. It was considered less useful and versatile compared to DataFrames, and it is no longer part of the Pandas library. Therefore, you won't encounter Panels in modern Pandas versions"
   ]
  },
  {
   "cell_type": "markdown",
   "id": "6eeb2fdf-62b2-4986-9272-b857ba6e95d0",
   "metadata": {},
   "source": [
    "quation 7:\n",
    "    "
   ]
  },
  {
   "cell_type": "code",
   "execution_count": 21,
   "id": "dce804ca-5f42-4fa6-a11d-5cb869a8abcf",
   "metadata": {},
   "outputs": [
    {
     "data": {
      "text/html": [
       "<div>\n",
       "<style scoped>\n",
       "    .dataframe tbody tr th:only-of-type {\n",
       "        vertical-align: middle;\n",
       "    }\n",
       "\n",
       "    .dataframe tbody tr th {\n",
       "        vertical-align: top;\n",
       "    }\n",
       "\n",
       "    .dataframe thead th {\n",
       "        text-align: right;\n",
       "    }\n",
       "</style>\n",
       "<table border=\"1\" class=\"dataframe\">\n",
       "  <thead>\n",
       "    <tr style=\"text-align: right;\">\n",
       "      <th></th>\n",
       "      <th>column1</th>\n",
       "      <th>column2</th>\n",
       "    </tr>\n",
       "  </thead>\n",
       "  <tbody>\n",
       "    <tr>\n",
       "      <th>0</th>\n",
       "      <td>1.0</td>\n",
       "      <td>4</td>\n",
       "    </tr>\n",
       "    <tr>\n",
       "      <th>1</th>\n",
       "      <td>2.0</td>\n",
       "      <td>1</td>\n",
       "    </tr>\n",
       "    <tr>\n",
       "      <th>2</th>\n",
       "      <td>4.0</td>\n",
       "      <td>8</td>\n",
       "    </tr>\n",
       "    <tr>\n",
       "      <th>3</th>\n",
       "      <td>5.0</td>\n",
       "      <td>9</td>\n",
       "    </tr>\n",
       "    <tr>\n",
       "      <th>4</th>\n",
       "      <td>6.0</td>\n",
       "      <td>6</td>\n",
       "    </tr>\n",
       "    <tr>\n",
       "      <th>5</th>\n",
       "      <td>7.0</td>\n",
       "      <td>1</td>\n",
       "    </tr>\n",
       "    <tr>\n",
       "      <th>6</th>\n",
       "      <td>NaN</td>\n",
       "      <td>3</td>\n",
       "    </tr>\n",
       "  </tbody>\n",
       "</table>\n",
       "</div>"
      ],
      "text/plain": [
       "   column1  column2\n",
       "0      1.0        4\n",
       "1      2.0        1\n",
       "2      4.0        8\n",
       "3      5.0        9\n",
       "4      6.0        6\n",
       "5      7.0        1\n",
       "6      NaN        3"
      ]
     },
     "execution_count": 21,
     "metadata": {},
     "output_type": "execute_result"
    }
   ],
   "source": [
    "se1=pd.Series([1,2,4,5,6,7])\n",
    "se2=pd.Series([4,1,8,9,6,1,3])\n",
    "df4=pd.DataFrame({\"column1\":se1,\"column2\":se2})\n",
    "df4"
   ]
  },
  {
   "cell_type": "code",
   "execution_count": null,
   "id": "b592ab85-fa29-49aa-b592-55c23b27602f",
   "metadata": {},
   "outputs": [],
   "source": []
  }
 ],
 "metadata": {
  "kernelspec": {
   "display_name": "Python 3 (ipykernel)",
   "language": "python",
   "name": "python3"
  },
  "language_info": {
   "codemirror_mode": {
    "name": "ipython",
    "version": 3
   },
   "file_extension": ".py",
   "mimetype": "text/x-python",
   "name": "python",
   "nbconvert_exporter": "python",
   "pygments_lexer": "ipython3",
   "version": "3.10.8"
  }
 },
 "nbformat": 4,
 "nbformat_minor": 5
}
